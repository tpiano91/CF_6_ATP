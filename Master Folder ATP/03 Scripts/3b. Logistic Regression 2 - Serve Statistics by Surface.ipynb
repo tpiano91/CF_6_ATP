{
 "cells": [
  {
   "cell_type": "markdown",
   "id": "632c9812",
   "metadata": {},
   "source": [
    "# 3b. Logistic Regression 2 - Serve Statistics by Surface\n",
    "\n",
    "#### The steps from script 3a are repeated here, using the additional variable of \"court surface\". The goal is to see if the correlation between each serve statistic and likelihood of winning a match varied by court surface.\n",
    "\n",
    "# Table of Content\n",
    "## 1. Load and Verify Data\n",
    "## 2. Data Preparation (Create a 'win' target variable)\n",
    "## 3. Export Dataframe (for use on Tableau)"
   ]
  },
  {
   "cell_type": "markdown",
   "id": "98808570",
   "metadata": {},
   "source": [
    "# Step 1: Load and Verify Data"
   ]
  },
  {
   "cell_type": "code",
   "execution_count": 1,
   "id": "621c80c8",
   "metadata": {},
   "outputs": [],
   "source": [
    "import pandas as pd\n",
    "import os\n",
    "from sklearn.model_selection import train_test_split\n",
    "from sklearn.linear_model import LogisticRegression\n",
    "from sklearn.metrics import accuracy_score, confusion_matrix, classification_report\n",
    "import matplotlib.pyplot as plt\n",
    "import seaborn as sns"
   ]
  },
  {
   "cell_type": "code",
   "execution_count": 2,
   "id": "32db3661",
   "metadata": {},
   "outputs": [],
   "source": [
    "#Set Path\n",
    "path = r'/Users/tristansavella/Desktop/Important Things/Data Analytics/CareerFoundry/Data Immersion/Achievement 6/Master Folder ATP/02 Data'"
   ]
  },
  {
   "cell_type": "code",
   "execution_count": 3,
   "id": "b9de0262",
   "metadata": {},
   "outputs": [],
   "source": [
    "#Import df_matchstats\n",
    "df_matchstats = pd.read_pickle(os.path.join(path, 'Prepared Data','df_matchstats.pkl'))"
   ]
  },
  {
   "cell_type": "code",
   "execution_count": 4,
   "id": "922f901d",
   "metadata": {},
   "outputs": [],
   "source": [
    "# Set the option to display all rows\n",
    "pd.set_option('display.max_rows', None)\n",
    "\n",
    "# Set the option to display all columns\n",
    "pd.set_option('display.max_columns', None)"
   ]
  },
  {
   "cell_type": "markdown",
   "id": "3b041449",
   "metadata": {},
   "source": [
    "# Step 2: Prepare the data by creating a 'win' target variable."
   ]
  },
  {
   "cell_type": "code",
   "execution_count": 5,
   "id": "e9606bbd",
   "metadata": {},
   "outputs": [],
   "source": [
    "# Create the 'win' target variable (1 for winner, 0 for loser)\n",
    "# Combine winner and loser statistics in a single DataFrame\n",
    "winners = df_matchstats[['w_%1stServesIn', 'w_%1stWon', 'w_%2ndWon', 'surface']].copy()\n",
    "winners['win'] = 1\n",
    "winners.columns = ['%1stServesIn', '%1stWon', '%2ndWon', 'surface', 'win']"
   ]
  },
  {
   "cell_type": "code",
   "execution_count": 6,
   "id": "9862f4fd",
   "metadata": {},
   "outputs": [],
   "source": [
    "losers = df_matchstats[['l_%1stServesIn', 'l_%1stWon', 'l_%2ndWon', 'surface']].copy()\n",
    "losers['win'] = 0\n",
    "losers.columns = ['%1stServesIn', '%1stWon', '%2ndWon', 'surface', 'win']"
   ]
  },
  {
   "cell_type": "code",
   "execution_count": 7,
   "id": "081077bd",
   "metadata": {},
   "outputs": [],
   "source": [
    "combined_df = pd.concat([winners, losers], ignore_index=True)"
   ]
  },
  {
   "cell_type": "code",
   "execution_count": 8,
   "id": "445077f3",
   "metadata": {},
   "outputs": [],
   "source": [
    "# Define the features and target variable\n",
    "features = ['%1stServesIn', '%1stWon', '%2ndWon']\n",
    "target = 'win'"
   ]
  },
  {
   "cell_type": "code",
   "execution_count": 9,
   "id": "d9fa8cc0",
   "metadata": {},
   "outputs": [],
   "source": [
    "# Initialize a DataFrame to store the coefficients\n",
    "coefficients_df = pd.DataFrame()\n"
   ]
  },
  {
   "cell_type": "code",
   "execution_count": 10,
   "id": "ee108c2f",
   "metadata": {},
   "outputs": [],
   "source": [
    "# Get unique surfaces\n",
    "surfaces = combined_df['surface'].unique()"
   ]
  },
  {
   "cell_type": "code",
   "execution_count": 11,
   "id": "da29e9a1",
   "metadata": {},
   "outputs": [],
   "source": [
    "# Iterate over each surface type and train a separate logistic regression model\n",
    "for surface in surfaces:\n",
    "    # Filter the dataset for the current surface\n",
    "    df_surface = combined_df[combined_df['surface'] == surface]\n",
    "\n",
    "    # Check if there are enough data points to train the model\n",
    "    if df_surface.shape[0] < 10:  # Arbitrary threshold for minimal data points\n",
    "        continue\n",
    "\n",
    "    # Define the features and target variable for the current surface\n",
    "    X = df_surface[features]\n",
    "    y = df_surface[target]\n",
    "\n",
    "    # Split the data into training and test sets\n",
    "    X_train, X_test, y_train, y_test = train_test_split(X, y, test_size=0.2, random_state=42)\n",
    "\n",
    "    # Train the logistic regression model\n",
    "    log_reg = LogisticRegression(max_iter=1000)\n",
    "    log_reg.fit(X_train, y_train)\n",
    "\n",
    "    # Get the coefficients of the logistic regression model\n",
    "    coeffs = log_reg.coef_[0]\n",
    "\n",
    "    # Create a DataFrame for the coefficients of the current surface\n",
    "    surface_coeffs_df = pd.DataFrame({\n",
    "        'Feature': features,\n",
    "        'Coefficient': coeffs,\n",
    "        'Surface': surface\n",
    "    })\n",
    "\n",
    "    # Append the coefficients to the main DataFrame\n",
    "    coefficients_df = pd.concat([coefficients_df, surface_coeffs_df], ignore_index=True)\n",
    "\n",
    "   "
   ]
  },
  {
   "cell_type": "code",
   "execution_count": 12,
   "id": "21d8b658",
   "metadata": {},
   "outputs": [
    {
     "name": "stdout",
     "output_type": "stream",
     "text": [
      "         Feature  Coefficient Surface\n",
      "0   %1stServesIn     0.045088    Hard\n",
      "1        %1stWon     0.147502    Hard\n",
      "2        %2ndWon     0.103018    Hard\n",
      "3   %1stServesIn     0.049480    Clay\n",
      "4        %1stWon     0.155528    Clay\n",
      "5        %2ndWon     0.104507    Clay\n",
      "6   %1stServesIn     0.042310   Grass\n",
      "7        %1stWon     0.153907   Grass\n",
      "8        %2ndWon     0.101215   Grass\n",
      "9   %1stServesIn     0.040727  Carpet\n",
      "10       %1stWon     0.136917  Carpet\n",
      "11       %2ndWon     0.087267  Carpet\n"
     ]
    }
   ],
   "source": [
    "# Display the coefficients DataFrame\n",
    "print(coefficients_df)\n"
   ]
  },
  {
   "cell_type": "code",
   "execution_count": 13,
   "id": "858a1b68",
   "metadata": {},
   "outputs": [
    {
     "data": {
      "image/png": "[encoded data removed]",
      "text/plain": [
       "<Figure size 1000x600 with 1 Axes>"
      ]
     },
     "metadata": {},
     "output_type": "display_data"
    }
   ],
   "source": [
    "# Plot the feature importance\n",
    "plt.figure(figsize=(10, 6))\n",
    "sns.barplot(x='Coefficient', y='Feature', hue='Surface', data=coefficients_df)\n",
    "plt.title('Feature Importance by Surface')\n",
    "plt.show()"
   ]
  },
  {
   "cell_type": "markdown",
   "id": "8184105a",
   "metadata": {},
   "source": [
    "# Step 3. Export Coefficients Dataframe"
   ]
  },
  {
   "cell_type": "code",
   "execution_count": 14,
   "id": "7a37011e",
   "metadata": {},
   "outputs": [],
   "source": [
    "# Save the coefficients DataFrame to a CSV file for use in Tableau\n",
    "coefficients_df.to_csv(os.path.join(path,'Prepared Data CSV','coefficients_df.csv'))"
   ]
  },
  {
   "cell_type": "code",
   "execution_count": null,
   "id": "bda2afe5",
   "metadata": {},
   "outputs": [],
   "source": []
  }
 ],
 "metadata": {
  "kernelspec": {
   "display_name": "Python 3 (ipykernel)",
   "language": "python",
   "name": "python3"
  },
  "language_info": {
   "codemirror_mode": {
    "name": "ipython",
    "version": 3
   },
   "file_extension": ".py",
   "mimetype": "text/x-python",
   "name": "python",
   "nbconvert_exporter": "python",
   "pygments_lexer": "ipython3",
   "version": "3.11.5"
  }
 },
 "nbformat": 4,
 "nbformat_minor": 5
}
