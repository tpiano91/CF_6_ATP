{
 "cells": [
  {
   "cell_type": "markdown",
   "id": "c8dcf204",
   "metadata": {},
   "source": [
    "# 3a. Logistic Regression - Serve Statistics\n",
    "\n",
    "#### Using logistic regression, the three serve statistics are tested to see their correlation with the likelihood of winning a match on the ATP tour. Statistics for the winner and loser were created and a new variable was added (1 for a match won and 0 for a match lost). The two dataframes were then combined and are ready for the regression.\n",
    "\n",
    "# Table of Content\n",
    "## 1. Load and Verify Data\n",
    "## 2. Separate and Rename Columns\n",
    "## 3. Combine the Dataframes\n",
    "## 4. Train the Logistic Regression and Plot\n",
    "## 5. Export Dataframe (for use on Tableau)"
   ]
  },
  {
   "cell_type": "markdown",
   "id": "e10774c5",
   "metadata": {},
   "source": [
    "## Step 1: Load and Verify Data"
   ]
  },
  {
   "cell_type": "code",
   "execution_count": 1,
   "id": "98042cfd",
   "metadata": {
    "scrolled": false
   },
   "outputs": [],
   "source": [
    "import pandas as pd\n",
    "import os\n",
    "from sklearn.model_selection import train_test_split\n",
    "from sklearn.linear_model import LogisticRegression\n",
    "from sklearn.metrics import accuracy_score, confusion_matrix, classification_report\n",
    "import matplotlib.pyplot as plt\n",
    "import seaborn as sns"
   ]
  },
  {
   "cell_type": "code",
   "execution_count": 2,
   "id": "dd7d00db",
   "metadata": {},
   "outputs": [],
   "source": [
    "#Set Path\n",
    "path = r'/Users/tristansavella/Desktop/Important Things/Data Analytics/CareerFoundry/Data Immersion/Achievement 6/Master Folder ATP/02 Data'"
   ]
  },
  {
   "cell_type": "code",
   "execution_count": 3,
   "id": "93b133d4",
   "metadata": {
    "scrolled": true
   },
   "outputs": [],
   "source": [
    "#Import df_matchstats\n",
    "df_matchstats = pd.read_pickle(os.path.join(path, 'Prepared Data','df_matchstats.pkl'))"
   ]
  },
  {
   "cell_type": "code",
   "execution_count": 4,
   "id": "4d36c62d",
   "metadata": {},
   "outputs": [],
   "source": [
    "# Set the option to display all rows\n",
    "pd.set_option('display.max_rows', None)\n",
    "\n",
    "# Set the option to display all columns\n",
    "pd.set_option('display.max_columns', None)"
   ]
  },
  {
   "cell_type": "code",
   "execution_count": 5,
   "id": "aaaa284a",
   "metadata": {},
   "outputs": [
    {
     "data": {
      "text/html": [
       "<div>\n",
       "<style scoped>\n",
       "    .dataframe tbody tr th:only-of-type {\n",
       "        vertical-align: middle;\n",
       "    }\n",
       "\n",
       "    .dataframe tbody tr th {\n",
       "        vertical-align: top;\n",
       "    }\n",
       "\n",
       "    .dataframe thead th {\n",
       "        text-align: right;\n",
       "    }\n",
       "</style>\n",
       "<table border=\"1\" class=\"dataframe\">\n",
       "  <thead>\n",
       "    <tr style=\"text-align: right;\">\n",
       "      <th></th>\n",
       "      <th>tourney_id</th>\n",
       "      <th>Year</th>\n",
       "      <th>tourney_name</th>\n",
       "      <th>surface</th>\n",
       "      <th>tourney_level</th>\n",
       "      <th>winner_id</th>\n",
       "      <th>winner_ioc</th>\n",
       "      <th>winner_name</th>\n",
       "      <th>winner_age</th>\n",
       "      <th>winner_rank</th>\n",
       "      <th>winner_ht</th>\n",
       "      <th>loser_id</th>\n",
       "      <th>loser_ioc</th>\n",
       "      <th>loser_name</th>\n",
       "      <th>loser_rank</th>\n",
       "      <th>loser_ht</th>\n",
       "      <th>loser_age</th>\n",
       "      <th>best_of</th>\n",
       "      <th>round</th>\n",
       "      <th>minutes</th>\n",
       "      <th>w_#ServeGames</th>\n",
       "      <th>w_#aces</th>\n",
       "      <th>w_#dfs</th>\n",
       "      <th>w_#ServePoints</th>\n",
       "      <th>w_#1stServesIn</th>\n",
       "      <th>w_#2ndServePoints</th>\n",
       "      <th>w_%1stServesIn</th>\n",
       "      <th>w_#1stWon</th>\n",
       "      <th>w_%1stWon</th>\n",
       "      <th>w_#2ndWon</th>\n",
       "      <th>w_%2ndWon</th>\n",
       "      <th>w_bpSaved</th>\n",
       "      <th>w_#bpFaced</th>\n",
       "      <th>l_#ServeGames</th>\n",
       "      <th>l_#aces</th>\n",
       "      <th>l_#dfs</th>\n",
       "      <th>l_#ServePoints</th>\n",
       "      <th>l_#1stServesIn</th>\n",
       "      <th>l_#2ndServePoints</th>\n",
       "      <th>l_%1stServesIn</th>\n",
       "      <th>l_#1stWon</th>\n",
       "      <th>l_%1stWon</th>\n",
       "      <th>l_#2ndWon</th>\n",
       "      <th>l_%2ndWon</th>\n",
       "      <th>l_bpSaved</th>\n",
       "      <th>l_#bpFaced</th>\n",
       "    </tr>\n",
       "  </thead>\n",
       "  <tbody>\n",
       "    <tr>\n",
       "      <th>119317</th>\n",
       "      <td>2000-301</td>\n",
       "      <td>2000</td>\n",
       "      <td>Auckland</td>\n",
       "      <td>Hard</td>\n",
       "      <td>A</td>\n",
       "      <td>103163</td>\n",
       "      <td>GER</td>\n",
       "      <td>Tommy Haas</td>\n",
       "      <td>21.7</td>\n",
       "      <td>11.0</td>\n",
       "      <td>188.0</td>\n",
       "      <td>101543</td>\n",
       "      <td>USA</td>\n",
       "      <td>Jeff Tarango</td>\n",
       "      <td>63.0</td>\n",
       "      <td>180.0</td>\n",
       "      <td>31.1</td>\n",
       "      <td>3</td>\n",
       "      <td>R32</td>\n",
       "      <td>108.0</td>\n",
       "      <td>17.0</td>\n",
       "      <td>18.0</td>\n",
       "      <td>4.0</td>\n",
       "      <td>96.0</td>\n",
       "      <td>49.0</td>\n",
       "      <td>47.0</td>\n",
       "      <td>51</td>\n",
       "      <td>39.0</td>\n",
       "      <td>79</td>\n",
       "      <td>28.0</td>\n",
       "      <td>59</td>\n",
       "      <td>3.0</td>\n",
       "      <td>5.0</td>\n",
       "      <td>17.0</td>\n",
       "      <td>7.0</td>\n",
       "      <td>8.0</td>\n",
       "      <td>106.0</td>\n",
       "      <td>55.0</td>\n",
       "      <td>51.0</td>\n",
       "      <td>51</td>\n",
       "      <td>39.0</td>\n",
       "      <td>70</td>\n",
       "      <td>29.0</td>\n",
       "      <td>56</td>\n",
       "      <td>4.0</td>\n",
       "      <td>7.0</td>\n",
       "    </tr>\n",
       "    <tr>\n",
       "      <th>119318</th>\n",
       "      <td>2000-301</td>\n",
       "      <td>2000</td>\n",
       "      <td>Auckland</td>\n",
       "      <td>Hard</td>\n",
       "      <td>A</td>\n",
       "      <td>102607</td>\n",
       "      <td>ESP</td>\n",
       "      <td>Juan Balcells</td>\n",
       "      <td>24.5</td>\n",
       "      <td>211.0</td>\n",
       "      <td>190.0</td>\n",
       "      <td>102644</td>\n",
       "      <td>ARG</td>\n",
       "      <td>Franco Squillari</td>\n",
       "      <td>49.0</td>\n",
       "      <td>183.0</td>\n",
       "      <td>24.3</td>\n",
       "      <td>3</td>\n",
       "      <td>R32</td>\n",
       "      <td>85.0</td>\n",
       "      <td>12.0</td>\n",
       "      <td>5.0</td>\n",
       "      <td>3.0</td>\n",
       "      <td>76.0</td>\n",
       "      <td>52.0</td>\n",
       "      <td>24.0</td>\n",
       "      <td>68</td>\n",
       "      <td>39.0</td>\n",
       "      <td>75</td>\n",
       "      <td>13.0</td>\n",
       "      <td>54</td>\n",
       "      <td>5.0</td>\n",
       "      <td>6.0</td>\n",
       "      <td>12.0</td>\n",
       "      <td>5.0</td>\n",
       "      <td>10.0</td>\n",
       "      <td>74.0</td>\n",
       "      <td>32.0</td>\n",
       "      <td>42.0</td>\n",
       "      <td>43</td>\n",
       "      <td>25.0</td>\n",
       "      <td>78</td>\n",
       "      <td>18.0</td>\n",
       "      <td>42</td>\n",
       "      <td>3.0</td>\n",
       "      <td>6.0</td>\n",
       "    </tr>\n",
       "    <tr>\n",
       "      <th>119319</th>\n",
       "      <td>2000-301</td>\n",
       "      <td>2000</td>\n",
       "      <td>Auckland</td>\n",
       "      <td>Hard</td>\n",
       "      <td>A</td>\n",
       "      <td>103252</td>\n",
       "      <td>ESP</td>\n",
       "      <td>Alberto Martin</td>\n",
       "      <td>21.3</td>\n",
       "      <td>48.0</td>\n",
       "      <td>175.0</td>\n",
       "      <td>102238</td>\n",
       "      <td>ESP</td>\n",
       "      <td>Alberto Berasategui</td>\n",
       "      <td>59.0</td>\n",
       "      <td>173.0</td>\n",
       "      <td>26.5</td>\n",
       "      <td>3</td>\n",
       "      <td>R32</td>\n",
       "      <td>56.0</td>\n",
       "      <td>8.0</td>\n",
       "      <td>0.0</td>\n",
       "      <td>0.0</td>\n",
       "      <td>55.0</td>\n",
       "      <td>35.0</td>\n",
       "      <td>20.0</td>\n",
       "      <td>63</td>\n",
       "      <td>25.0</td>\n",
       "      <td>71</td>\n",
       "      <td>12.0</td>\n",
       "      <td>60</td>\n",
       "      <td>1.0</td>\n",
       "      <td>1.0</td>\n",
       "      <td>8.0</td>\n",
       "      <td>0.0</td>\n",
       "      <td>6.0</td>\n",
       "      <td>56.0</td>\n",
       "      <td>33.0</td>\n",
       "      <td>23.0</td>\n",
       "      <td>58</td>\n",
       "      <td>20.0</td>\n",
       "      <td>60</td>\n",
       "      <td>7.0</td>\n",
       "      <td>30</td>\n",
       "      <td>7.0</td>\n",
       "      <td>11.0</td>\n",
       "    </tr>\n",
       "    <tr>\n",
       "      <th>119320</th>\n",
       "      <td>2000-301</td>\n",
       "      <td>2000</td>\n",
       "      <td>Auckland</td>\n",
       "      <td>Hard</td>\n",
       "      <td>A</td>\n",
       "      <td>103507</td>\n",
       "      <td>ESP</td>\n",
       "      <td>Juan Carlos Ferrero</td>\n",
       "      <td>19.9</td>\n",
       "      <td>45.0</td>\n",
       "      <td>183.0</td>\n",
       "      <td>103819</td>\n",
       "      <td>SUI</td>\n",
       "      <td>Roger Federer</td>\n",
       "      <td>61.0</td>\n",
       "      <td>185.0</td>\n",
       "      <td>18.4</td>\n",
       "      <td>3</td>\n",
       "      <td>R32</td>\n",
       "      <td>68.0</td>\n",
       "      <td>10.0</td>\n",
       "      <td>5.0</td>\n",
       "      <td>1.0</td>\n",
       "      <td>53.0</td>\n",
       "      <td>28.0</td>\n",
       "      <td>25.0</td>\n",
       "      <td>52</td>\n",
       "      <td>26.0</td>\n",
       "      <td>92</td>\n",
       "      <td>15.0</td>\n",
       "      <td>60</td>\n",
       "      <td>0.0</td>\n",
       "      <td>0.0</td>\n",
       "      <td>10.0</td>\n",
       "      <td>11.0</td>\n",
       "      <td>2.0</td>\n",
       "      <td>70.0</td>\n",
       "      <td>43.0</td>\n",
       "      <td>27.0</td>\n",
       "      <td>61</td>\n",
       "      <td>29.0</td>\n",
       "      <td>67</td>\n",
       "      <td>14.0</td>\n",
       "      <td>51</td>\n",
       "      <td>6.0</td>\n",
       "      <td>8.0</td>\n",
       "    </tr>\n",
       "    <tr>\n",
       "      <th>119321</th>\n",
       "      <td>2000-301</td>\n",
       "      <td>2000</td>\n",
       "      <td>Auckland</td>\n",
       "      <td>Hard</td>\n",
       "      <td>A</td>\n",
       "      <td>102103</td>\n",
       "      <td>USA</td>\n",
       "      <td>Michael Sell</td>\n",
       "      <td>27.3</td>\n",
       "      <td>167.0</td>\n",
       "      <td>180.0</td>\n",
       "      <td>102765</td>\n",
       "      <td>FRA</td>\n",
       "      <td>Nicolas Escude</td>\n",
       "      <td>34.0</td>\n",
       "      <td>185.0</td>\n",
       "      <td>23.7</td>\n",
       "      <td>3</td>\n",
       "      <td>R32</td>\n",
       "      <td>115.0</td>\n",
       "      <td>13.0</td>\n",
       "      <td>1.0</td>\n",
       "      <td>2.0</td>\n",
       "      <td>98.0</td>\n",
       "      <td>66.0</td>\n",
       "      <td>32.0</td>\n",
       "      <td>67</td>\n",
       "      <td>39.0</td>\n",
       "      <td>59</td>\n",
       "      <td>14.0</td>\n",
       "      <td>43</td>\n",
       "      <td>6.0</td>\n",
       "      <td>11.0</td>\n",
       "      <td>12.0</td>\n",
       "      <td>8.0</td>\n",
       "      <td>8.0</td>\n",
       "      <td>92.0</td>\n",
       "      <td>46.0</td>\n",
       "      <td>46.0</td>\n",
       "      <td>50</td>\n",
       "      <td>34.0</td>\n",
       "      <td>73</td>\n",
       "      <td>18.0</td>\n",
       "      <td>39</td>\n",
       "      <td>5.0</td>\n",
       "      <td>9.0</td>\n",
       "    </tr>\n",
       "  </tbody>\n",
       "</table>\n",
       "</div>"
      ],
      "text/plain": [
       "       tourney_id  Year tourney_name surface tourney_level winner_id  \\\n",
       "119317   2000-301  2000     Auckland    Hard             A    103163   \n",
       "119318   2000-301  2000     Auckland    Hard             A    102607   \n",
       "119319   2000-301  2000     Auckland    Hard             A    103252   \n",
       "119320   2000-301  2000     Auckland    Hard             A    103507   \n",
       "119321   2000-301  2000     Auckland    Hard             A    102103   \n",
       "\n",
       "       winner_ioc          winner_name  winner_age  winner_rank  winner_ht  \\\n",
       "119317        GER           Tommy Haas        21.7         11.0      188.0   \n",
       "119318        ESP        Juan Balcells        24.5        211.0      190.0   \n",
       "119319        ESP       Alberto Martin        21.3         48.0      175.0   \n",
       "119320        ESP  Juan Carlos Ferrero        19.9         45.0      183.0   \n",
       "119321        USA         Michael Sell        27.3        167.0      180.0   \n",
       "\n",
       "       loser_id loser_ioc           loser_name  loser_rank  loser_ht  \\\n",
       "119317   101543       USA         Jeff Tarango        63.0     180.0   \n",
       "119318   102644       ARG     Franco Squillari        49.0     183.0   \n",
       "119319   102238       ESP  Alberto Berasategui        59.0     173.0   \n",
       "119320   103819       SUI        Roger Federer        61.0     185.0   \n",
       "119321   102765       FRA       Nicolas Escude        34.0     185.0   \n",
       "\n",
       "        loser_age best_of round  minutes  w_#ServeGames  w_#aces  w_#dfs  \\\n",
       "119317       31.1       3   R32    108.0           17.0     18.0     4.0   \n",
       "119318       24.3       3   R32     85.0           12.0      5.0     3.0   \n",
       "119319       26.5       3   R32     56.0            8.0      0.0     0.0   \n",
       "119320       18.4       3   R32     68.0           10.0      5.0     1.0   \n",
       "119321       23.7       3   R32    115.0           13.0      1.0     2.0   \n",
       "\n",
       "        w_#ServePoints  w_#1stServesIn  w_#2ndServePoints  w_%1stServesIn  \\\n",
       "119317            96.0            49.0               47.0              51   \n",
       "119318            76.0            52.0               24.0              68   \n",
       "119319            55.0            35.0               20.0              63   \n",
       "119320            53.0            28.0               25.0              52   \n",
       "119321            98.0            66.0               32.0              67   \n",
       "\n",
       "        w_#1stWon  w_%1stWon  w_#2ndWon  w_%2ndWon  w_bpSaved  w_#bpFaced  \\\n",
       "119317       39.0         79       28.0         59        3.0         5.0   \n",
       "119318       39.0         75       13.0         54        5.0         6.0   \n",
       "119319       25.0         71       12.0         60        1.0         1.0   \n",
       "119320       26.0         92       15.0         60        0.0         0.0   \n",
       "119321       39.0         59       14.0         43        6.0        11.0   \n",
       "\n",
       "        l_#ServeGames  l_#aces  l_#dfs  l_#ServePoints  l_#1stServesIn  \\\n",
       "119317           17.0      7.0     8.0           106.0            55.0   \n",
       "119318           12.0      5.0    10.0            74.0            32.0   \n",
       "119319            8.0      0.0     6.0            56.0            33.0   \n",
       "119320           10.0     11.0     2.0            70.0            43.0   \n",
       "119321           12.0      8.0     8.0            92.0            46.0   \n",
       "\n",
       "        l_#2ndServePoints  l_%1stServesIn  l_#1stWon  l_%1stWon  l_#2ndWon  \\\n",
       "119317               51.0              51       39.0         70       29.0   \n",
       "119318               42.0              43       25.0         78       18.0   \n",
       "119319               23.0              58       20.0         60        7.0   \n",
       "119320               27.0              61       29.0         67       14.0   \n",
       "119321               46.0              50       34.0         73       18.0   \n",
       "\n",
       "        l_%2ndWon  l_bpSaved  l_#bpFaced  \n",
       "119317         56        4.0         7.0  \n",
       "119318         42        3.0         6.0  \n",
       "119319         30        7.0        11.0  \n",
       "119320         51        6.0         8.0  \n",
       "119321         39        5.0         9.0  "
      ]
     },
     "execution_count": 5,
     "metadata": {},
     "output_type": "execute_result"
    }
   ],
   "source": [
    "df_matchstats.head()"
   ]
  },
  {
   "cell_type": "code",
   "execution_count": 6,
   "id": "8174857f",
   "metadata": {},
   "outputs": [],
   "source": [
    "# Drop columns with NaN values\n",
    "df_matchstats.dropna(axis=1, inplace=True)"
   ]
  },
  {
   "cell_type": "code",
   "execution_count": 7,
   "id": "f1fd98dd",
   "metadata": {},
   "outputs": [
    {
     "name": "stdout",
     "output_type": "stream",
     "text": [
      "Initial Columns: ['tourney_id', 'Year', 'tourney_name', 'surface', 'tourney_level', 'winner_id', 'winner_ioc', 'winner_name', 'winner_age', 'loser_id', 'loser_ioc', 'loser_name', 'best_of', 'round', 'w_#ServeGames', 'w_#aces', 'w_#dfs', 'w_#ServePoints', 'w_#1stServesIn', 'w_#2ndServePoints', 'w_%1stServesIn', 'w_#1stWon', 'w_%1stWon', 'w_#2ndWon', 'w_%2ndWon', 'w_bpSaved', 'w_#bpFaced', 'l_#ServeGames', 'l_#aces', 'l_#dfs', 'l_#ServePoints', 'l_#1stServesIn', 'l_#2ndServePoints', 'l_%1stServesIn', 'l_#1stWon', 'l_%1stWon', 'l_#2ndWon', 'l_%2ndWon', 'l_bpSaved', 'l_#bpFaced']\n"
     ]
    }
   ],
   "source": [
    "# Verify initial columns\n",
    "print(\"Initial Columns:\", df_matchstats.columns.tolist())"
   ]
  },
  {
   "cell_type": "markdown",
   "id": "8a421b1e",
   "metadata": {},
   "source": [
    "# Step 2: Separate and Rename Columns"
   ]
  },
  {
   "cell_type": "code",
   "execution_count": 8,
   "id": "5878f3be",
   "metadata": {},
   "outputs": [],
   "source": [
    "# Create separate DataFrames for winner and loser statistics\n",
    "winners = df_matchstats.copy()\n",
    "losers = df_matchstats.copy()"
   ]
  },
  {
   "cell_type": "code",
   "execution_count": 9,
   "id": "033c6b08",
   "metadata": {},
   "outputs": [],
   "source": [
    "# Add a target variable to each DataFrame\n",
    "winners['win'] = 1\n",
    "losers['win'] = 0"
   ]
  },
  {
   "cell_type": "code",
   "execution_count": 10,
   "id": "59392610",
   "metadata": {},
   "outputs": [],
   "source": [
    "# Rename columns for losers to ensure uniqueness\n",
    "losers.rename(columns={\n",
    "    'l_%1stServesIn': '1stServesIn', \n",
    "    'l_%1stWon': '1stWon', \n",
    "    'l_%2ndWon': '2ndWon'\n",
    "}, inplace=True)"
   ]
  },
  {
   "cell_type": "code",
   "execution_count": 11,
   "id": "6047bfc3",
   "metadata": {},
   "outputs": [],
   "source": [
    "# Rename columns for winners to ensure consistency\n",
    "winners.rename(columns={\n",
    "    'w_%1stServesIn': '1stServesIn', \n",
    "    'w_%1stWon': '1stWon', \n",
    "    'w_%2ndWon': '2ndWon'\n",
    "}, inplace=True)"
   ]
  },
  {
   "cell_type": "code",
   "execution_count": 12,
   "id": "745febef",
   "metadata": {},
   "outputs": [],
   "source": [
    "# Extract relevant columns\n",
    "winners_renamed = winners[['1stServesIn', '1stWon', '2ndWon', 'win']]\n",
    "losers_renamed = losers[['1stServesIn', '1stWon', '2ndWon', 'win']]"
   ]
  },
  {
   "cell_type": "code",
   "execution_count": 13,
   "id": "931372a8",
   "metadata": {},
   "outputs": [
    {
     "name": "stdout",
     "output_type": "stream",
     "text": [
      "Winners Renamed Columns: ['1stServesIn', '1stWon', '2ndWon', 'win']\n",
      "Losers Renamed Columns: ['1stServesIn', '1stWon', '2ndWon', 'win']\n"
     ]
    }
   ],
   "source": [
    "# Verify the column names after renaming\n",
    "print(\"Winners Renamed Columns:\", winners_renamed.columns.tolist())\n",
    "print(\"Losers Renamed Columns:\", losers_renamed.columns.tolist())"
   ]
  },
  {
   "cell_type": "markdown",
   "id": "28a5bdff",
   "metadata": {},
   "source": [
    "# Step 3: Combine the DataFrames"
   ]
  },
  {
   "cell_type": "code",
   "execution_count": 14,
   "id": "9b81adb2",
   "metadata": {},
   "outputs": [
    {
     "name": "stdout",
     "output_type": "stream",
     "text": [
      "Combined DataFrame Columns: ['1stServesIn', '1stWon', '2ndWon', 'win']\n",
      "   1stServesIn  1stWon  2ndWon  win\n",
      "0           51      79      59    1\n",
      "1           68      75      54    1\n",
      "2           63      71      60    1\n",
      "3           52      92      60    1\n",
      "4           67      59      43    1\n"
     ]
    }
   ],
   "source": [
    "# Combine the DataFrames\n",
    "combined_df = pd.concat([winners_renamed, losers_renamed], ignore_index=True)\n",
    "\n",
    "# Verify the combined DataFrame\n",
    "print(\"Combined DataFrame Columns:\", combined_df.columns.tolist())\n",
    "print(combined_df.head())"
   ]
  },
  {
   "cell_type": "markdown",
   "id": "828137c6",
   "metadata": {},
   "source": [
    "# Step 4: Train the Logistic Regression Model and Plot"
   ]
  },
  {
   "cell_type": "code",
   "execution_count": 15,
   "id": "f2ca5462",
   "metadata": {},
   "outputs": [],
   "source": [
    "# Define the features and target variable\n",
    "features = combined_df[['1stServesIn', '1stWon', '2ndWon']]\n",
    "target = combined_df['win']"
   ]
  },
  {
   "cell_type": "code",
   "execution_count": 16,
   "id": "355c7c9b",
   "metadata": {},
   "outputs": [],
   "source": [
    "# Split the data into training and test sets\n",
    "X_train, X_test, y_train, y_test = train_test_split(features, target, test_size=0.2, random_state=42)\n"
   ]
  },
  {
   "cell_type": "code",
   "execution_count": 17,
   "id": "ee8c52c1",
   "metadata": {},
   "outputs": [
    {
     "data": {
      "text/html": [
       "<style>#sk-container-id-1 {color: black;}#sk-container-id-1 pre{padding: 0;}#sk-container-id-1 div.sk-toggleable {background-color: white;}#sk-container-id-1 label.sk-toggleable__label {cursor: pointer;display: block;width: 100%;margin-bottom: 0;padding: 0.3em;box-sizing: border-box;text-align: center;}#sk-container-id-1 label.sk-toggleable__label-arrow:before {content: \"▸\";float: left;margin-right: 0.25em;color: #696969;}#sk-container-id-1 label.sk-toggleable__label-arrow:hover:before {color: black;}#sk-container-id-1 div.sk-estimator:hover label.sk-toggleable__label-arrow:before {color: black;}#sk-container-id-1 div.sk-toggleable__content {max-height: 0;max-width: 0;overflow: hidden;text-align: left;background-color: #f0f8ff;}#sk-container-id-1 div.sk-toggleable__content pre {margin: 0.2em;color: black;border-radius: 0.25em;background-color: #f0f8ff;}#sk-container-id-1 input.sk-toggleable__control:checked~div.sk-toggleable__content {max-height: 200px;max-width: 100%;overflow: auto;}#sk-container-id-1 input.sk-toggleable__control:checked~label.sk-toggleable__label-arrow:before {content: \"▾\";}#sk-container-id-1 div.sk-estimator input.sk-toggleable__control:checked~label.sk-toggleable__label {background-color: #d4ebff;}#sk-container-id-1 div.sk-label input.sk-toggleable__control:checked~label.sk-toggleable__label {background-color: #d4ebff;}#sk-container-id-1 input.sk-hidden--visually {border: 0;clip: rect(1px 1px 1px 1px);clip: rect(1px, 1px, 1px, 1px);height: 1px;margin: -1px;overflow: hidden;padding: 0;position: absolute;width: 1px;}#sk-container-id-1 div.sk-estimator {font-family: monospace;background-color: #f0f8ff;border: 1px dotted black;border-radius: 0.25em;box-sizing: border-box;margin-bottom: 0.5em;}#sk-container-id-1 div.sk-estimator:hover {background-color: #d4ebff;}#sk-container-id-1 div.sk-parallel-item::after {content: \"\";width: 100%;border-bottom: 1px solid gray;flex-grow: 1;}#sk-container-id-1 div.sk-label:hover label.sk-toggleable__label {background-color: #d4ebff;}#sk-container-id-1 div.sk-serial::before {content: \"\";position: absolute;border-left: 1px solid gray;box-sizing: border-box;top: 0;bottom: 0;left: 50%;z-index: 0;}#sk-container-id-1 div.sk-serial {display: flex;flex-direction: column;align-items: center;background-color: white;padding-right: 0.2em;padding-left: 0.2em;position: relative;}#sk-container-id-1 div.sk-item {position: relative;z-index: 1;}#sk-container-id-1 div.sk-parallel {display: flex;align-items: stretch;justify-content: center;background-color: white;position: relative;}#sk-container-id-1 div.sk-item::before, #sk-container-id-1 div.sk-parallel-item::before {content: \"\";position: absolute;border-left: 1px solid gray;box-sizing: border-box;top: 0;bottom: 0;left: 50%;z-index: -1;}#sk-container-id-1 div.sk-parallel-item {display: flex;flex-direction: column;z-index: 1;position: relative;background-color: white;}#sk-container-id-1 div.sk-parallel-item:first-child::after {align-self: flex-end;width: 50%;}#sk-container-id-1 div.sk-parallel-item:last-child::after {align-self: flex-start;width: 50%;}#sk-container-id-1 div.sk-parallel-item:only-child::after {width: 0;}#sk-container-id-1 div.sk-dashed-wrapped {border: 1px dashed gray;margin: 0 0.4em 0.5em 0.4em;box-sizing: border-box;padding-bottom: 0.4em;background-color: white;}#sk-container-id-1 div.sk-label label {font-family: monospace;font-weight: bold;display: inline-block;line-height: 1.2em;}#sk-container-id-1 div.sk-label-container {text-align: center;}#sk-container-id-1 div.sk-container {/* jupyter's `normalize.less` sets `[hidden] { display: none; }` but bootstrap.min.css set `[hidden] { display: none !important; }` so we also need the `!important` here to be able to override the default hidden behavior on the sphinx rendered scikit-learn.org. See: https://github.com/scikit-learn/scikit-learn/issues/21755 */display: inline-block !important;position: relative;}#sk-container-id-1 div.sk-text-repr-fallback {display: none;}</style><div id=\"sk-container-id-1\" class=\"sk-top-container\"><div class=\"sk-text-repr-fallback\"><pre>LogisticRegression(max_iter=1000)</pre><b>In a Jupyter environment, please rerun this cell to show the HTML representation or trust the notebook. <br />On GitHub, the HTML representation is unable to render, please try loading this page with nbviewer.org.</b></div><div class=\"sk-container\" hidden><div class=\"sk-item\"><div class=\"sk-estimator sk-toggleable\"><input class=\"sk-toggleable__control sk-hidden--visually\" id=\"sk-estimator-id-1\" type=\"checkbox\" checked><label for=\"sk-estimator-id-1\" class=\"sk-toggleable__label sk-toggleable__label-arrow\">LogisticRegression</label><div class=\"sk-toggleable__content\"><pre>LogisticRegression(max_iter=1000)</pre></div></div></div></div></div>"
      ],
      "text/plain": [
       "LogisticRegression(max_iter=1000)"
      ]
     },
     "execution_count": 17,
     "metadata": {},
     "output_type": "execute_result"
    }
   ],
   "source": [
    "# Train the logistic regression model\n",
    "log_reg = LogisticRegression(max_iter=1000)\n",
    "log_reg.fit(X_train, y_train)"
   ]
  },
  {
   "cell_type": "code",
   "execution_count": 18,
   "id": "bd7f8e4b",
   "metadata": {},
   "outputs": [],
   "source": [
    "# Make predictions and evaluate the model\n",
    "y_pred = log_reg.predict(X_test)\n",
    "accuracy = accuracy_score(y_test, y_pred)\n",
    "conf_matrix = confusion_matrix(y_test, y_pred)\n",
    "class_report = classification_report(y_test, y_pred)"
   ]
  },
  {
   "cell_type": "code",
   "execution_count": 19,
   "id": "d564d3b1",
   "metadata": {},
   "outputs": [
    {
     "name": "stdout",
     "output_type": "stream",
     "text": [
      "Classification Model Accuracy: 0.7902606748760594\n",
      "Confusion Matrix:\n",
      " [[9794 2606]\n",
      " [2640 9972]]\n",
      "Classification Report:\n",
      "               precision    recall  f1-score   support\n",
      "\n",
      "           0       0.79      0.79      0.79     12400\n",
      "           1       0.79      0.79      0.79     12612\n",
      "\n",
      "    accuracy                           0.79     25012\n",
      "   macro avg       0.79      0.79      0.79     25012\n",
      "weighted avg       0.79      0.79      0.79     25012\n",
      "\n"
     ]
    }
   ],
   "source": [
    "print(f'Classification Model Accuracy: {accuracy}')\n",
    "print('Confusion Matrix:\\n', conf_matrix)\n",
    "print('Classification Report:\\n', class_report)"
   ]
  },
  {
   "cell_type": "code",
   "execution_count": 20,
   "id": "12bf28bb",
   "metadata": {},
   "outputs": [],
   "source": [
    "# Get the coefficients of the logistic regression model\n",
    "coefficients = log_reg.coef_[0]\n",
    "feature_names = features.columns"
   ]
  },
  {
   "cell_type": "code",
   "execution_count": 21,
   "id": "a85f6a23",
   "metadata": {},
   "outputs": [
    {
     "name": "stdout",
     "output_type": "stream",
     "text": [
      "  Serve Statistic  Coefficient\n",
      "1          1stWon     0.139635\n",
      "2          2ndWon     0.100579\n",
      "0     1stServesIn     0.044955\n"
     ]
    }
   ],
   "source": [
    "# Create a DataFrame for feature importance (coefficients)\n",
    "importance_df = pd.DataFrame({'Serve Statistic': feature_names, 'Coefficient': coefficients})\n",
    "importance_df = importance_df.sort_values(by='Coefficient', ascending=False)\n",
    "print(importance_df)"
   ]
  },
  {
   "cell_type": "code",
   "execution_count": 22,
   "id": "4cf032b8",
   "metadata": {},
   "outputs": [
    {
     "data": {
      "image/png": "[encoded data removed]",
      "text/plain": [
       "<Figure size 1000x600 with 1 Axes>"
      ]
     },
     "metadata": {},
     "output_type": "display_data"
    }
   ],
   "source": [
    "# Plot the feature importance\n",
    "plt.figure(figsize=(10, 6))\n",
    "sns.barplot(x='Coefficient', y='Serve Statistic', data=importance_df)\n",
    "plt.title('Impact of Each Serve Statistic on Likelihood of Winning a Match')\n",
    "plt.show()"
   ]
  },
  {
   "cell_type": "markdown",
   "id": "9c50b848",
   "metadata": {},
   "source": [
    "# Step 5: Export Combined Dataset"
   ]
  },
  {
   "cell_type": "code",
   "execution_count": 37,
   "id": "17a37d20",
   "metadata": {},
   "outputs": [],
   "source": [
    "combined_df.to_pickle(os.path.join(path, 'Prepared Data','combined_df.pkl'))"
   ]
  },
  {
   "cell_type": "code",
   "execution_count": 23,
   "id": "5fec4d6b",
   "metadata": {},
   "outputs": [],
   "source": [
    "#as CSV\n",
    "combined_df.to_csv(os.path.join(path,'Prepared Data CSV','combined_df.csv'))"
   ]
  },
  {
   "cell_type": "code",
   "execution_count": 24,
   "id": "2a6d7ed9",
   "metadata": {},
   "outputs": [
    {
     "data": {
      "text/html": [
       "<div>\n",
       "<style scoped>\n",
       "    .dataframe tbody tr th:only-of-type {\n",
       "        vertical-align: middle;\n",
       "    }\n",
       "\n",
       "    .dataframe tbody tr th {\n",
       "        vertical-align: top;\n",
       "    }\n",
       "\n",
       "    .dataframe thead th {\n",
       "        text-align: right;\n",
       "    }\n",
       "</style>\n",
       "<table border=\"1\" class=\"dataframe\">\n",
       "  <thead>\n",
       "    <tr style=\"text-align: right;\">\n",
       "      <th></th>\n",
       "      <th>Serve Statistic</th>\n",
       "      <th>Coefficient</th>\n",
       "    </tr>\n",
       "  </thead>\n",
       "  <tbody>\n",
       "    <tr>\n",
       "      <th>1</th>\n",
       "      <td>1stWon</td>\n",
       "      <td>0.139635</td>\n",
       "    </tr>\n",
       "    <tr>\n",
       "      <th>2</th>\n",
       "      <td>2ndWon</td>\n",
       "      <td>0.100579</td>\n",
       "    </tr>\n",
       "    <tr>\n",
       "      <th>0</th>\n",
       "      <td>1stServesIn</td>\n",
       "      <td>0.044955</td>\n",
       "    </tr>\n",
       "  </tbody>\n",
       "</table>\n",
       "</div>"
      ],
      "text/plain": [
       "  Serve Statistic  Coefficient\n",
       "1          1stWon     0.139635\n",
       "2          2ndWon     0.100579\n",
       "0     1stServesIn     0.044955"
      ]
     },
     "execution_count": 24,
     "metadata": {},
     "output_type": "execute_result"
    }
   ],
   "source": [
    "importance_df.head()"
   ]
  },
  {
   "cell_type": "code",
   "execution_count": null,
   "id": "8b1d7c3b",
   "metadata": {},
   "outputs": [],
   "source": []
  }
 ],
 "metadata": {
  "kernelspec": {
   "display_name": "Python 3 (ipykernel)",
   "language": "python",
   "name": "python3"
  },
  "language_info": {
   "codemirror_mode": {
    "name": "ipython",
    "version": 3
   },
   "file_extension": ".py",
   "mimetype": "text/x-python",
   "name": "python",
   "nbconvert_exporter": "python",
   "pygments_lexer": "ipython3",
   "version": "3.11.5"
  }
 },
 "nbformat": 4,
 "nbformat_minor": 5
}
