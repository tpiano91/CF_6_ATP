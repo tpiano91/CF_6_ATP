{
 "cells": [
  {
   "cell_type": "markdown",
   "id": "02eb8e4c",
   "metadata": {},
   "source": [
    "# 6.3 Geographic Visualization "
   ]
  },
  {
   "cell_type": "markdown",
   "id": "714a0c88",
   "metadata": {},
   "source": [
    "### 1. Import data and libraries\n",
    "### 2. Data cleaning \n",
    "### 3. Data wrangling\n",
    "### 4. Plotting a choropleth"
   ]
  },
  {
   "cell_type": "markdown",
   "id": "b26a17dd",
   "metadata": {},
   "source": [
    "## Disclaimer:\n",
    "Geographical Visualization is not an important/relevant part of my project. "
   ]
  },
  {
   "cell_type": "markdown",
   "id": "a631cf13",
   "metadata": {},
   "source": [
    "## 1. Import data and libraries"
   ]
  },
  {
   "cell_type": "code",
   "execution_count": 34,
   "id": "404b00b1",
   "metadata": {},
   "outputs": [],
   "source": [
    "# Import Libraries\n",
    "import pandas as pd\n",
    "import numpy as np\n",
    "import seaborn as sns\n",
    "import matplotlib\n",
    "import os\n",
    "import folium\n",
    "import json"
   ]
  },
  {
   "cell_type": "code",
   "execution_count": 35,
   "id": "2b71fc9a",
   "metadata": {},
   "outputs": [],
   "source": [
    "# This command propts matplotlib visuals to appear in the notebook \n",
    "\n",
    "%matplotlib inline"
   ]
  },
  {
   "cell_type": "code",
   "execution_count": 36,
   "id": "699682bb",
   "metadata": {},
   "outputs": [],
   "source": [
    "#Set Path\n",
    "path = r'/Users/tristansavella/Desktop/Important Things/Data Analytics/CareerFoundry/Data Immersion/Achievement 6/Master Folder ATP/02 Data'"
   ]
  },
  {
   "cell_type": "code",
   "execution_count": 37,
   "id": "1361281f",
   "metadata": {},
   "outputs": [],
   "source": [
    "#Import Datasets\n",
    "df_matchstats = pd.read_pickle(os.path.join(path, 'Prepared Data','df_matchstats.pkl'))\n",
    "df_players = pd.read_csv(os.path.join(path, 'Original Data', 'players.csv'), index_col = False)\n",
    "#I will also use df_players for this exercise"
   ]
  },
  {
   "cell_type": "code",
   "execution_count": 38,
   "id": "0410bc79",
   "metadata": {},
   "outputs": [],
   "source": [
    "#Import Countries JSON (3 Letter Abbreviation)\n",
    "countries = r'/Users/tristansavella/Desktop/Important Things/Data Analytics/CareerFoundry/Data Immersion/Achievement 6/Master Folder ATP/02 Data/Original Data/countries.json'"
   ]
  },
  {
   "cell_type": "code",
   "execution_count": 39,
   "id": "ba9ac485",
   "metadata": {},
   "outputs": [
    {
     "ename": "TypeError",
     "evalue": "list indices must be integers or slices, not str",
     "output_type": "error",
     "traceback": [
      "\u001b[0;31m---------------------------------------------------------------------------\u001b[0m",
      "\u001b[0;31mTypeError\u001b[0m                                 Traceback (most recent call last)",
      "Cell \u001b[0;32mIn[39], line 9\u001b[0m\n\u001b[1;32m      6\u001b[0m data \u001b[38;5;241m=\u001b[39m json\u001b[38;5;241m.\u001b[39mload(f)\n\u001b[1;32m      8\u001b[0m \u001b[38;5;66;03m# Iterating through the json list\u001b[39;00m\n\u001b[0;32m----> 9\u001b[0m \u001b[38;5;28;01mfor\u001b[39;00m i \u001b[38;5;129;01min\u001b[39;00m data[\u001b[38;5;124m'\u001b[39m\u001b[38;5;124mfeatures\u001b[39m\u001b[38;5;124m'\u001b[39m]:\n\u001b[1;32m     10\u001b[0m     \u001b[38;5;28mprint\u001b[39m(i)\n",
      "\u001b[0;31mTypeError\u001b[0m: list indices must be integers or slices, not str"
     ]
    }
   ],
   "source": [
    "# That's just in case you want to look at the JSON file contents here too:\n",
    "\n",
    "f = open(r'/Users/tristansavella/Desktop/Important Things/Data Analytics/CareerFoundry/Data Immersion/Achievement 6/Master Folder ATP/02 Data/Original Data/countries.json',)\n",
    "  \n",
    "# returns JSON object asa dictionary\n",
    "data = json.load(f)\n",
    "  \n",
    "# Iterating through the json list\n",
    "for i in data['features']:\n",
    "    print(i)"
   ]
  },
  {
   "cell_type": "markdown",
   "id": "2b32b560",
   "metadata": {},
   "source": [
    "## 2. Data Cleaning"
   ]
  },
  {
   "cell_type": "markdown",
   "id": "9c718e5d",
   "metadata": {},
   "source": [
    "#### df_players only"
   ]
  },
  {
   "cell_type": "code",
   "execution_count": 40,
   "id": "afba3a04",
   "metadata": {},
   "outputs": [
    {
     "data": {
      "text/html": [
       "<div>\n",
       "<style scoped>\n",
       "    .dataframe tbody tr th:only-of-type {\n",
       "        vertical-align: middle;\n",
       "    }\n",
       "\n",
       "    .dataframe tbody tr th {\n",
       "        vertical-align: top;\n",
       "    }\n",
       "\n",
       "    .dataframe thead th {\n",
       "        text-align: right;\n",
       "    }\n",
       "</style>\n",
       "<table border=\"1\" class=\"dataframe\">\n",
       "  <thead>\n",
       "    <tr style=\"text-align: right;\">\n",
       "      <th></th>\n",
       "      <th>player_id</th>\n",
       "      <th>name_first</th>\n",
       "      <th>name_last</th>\n",
       "      <th>hand</th>\n",
       "      <th>dob</th>\n",
       "      <th>ioc</th>\n",
       "      <th>height</th>\n",
       "      <th>wikidata_id</th>\n",
       "    </tr>\n",
       "  </thead>\n",
       "  <tbody>\n",
       "    <tr>\n",
       "      <th>0</th>\n",
       "      <td>100001</td>\n",
       "      <td>Gardnar</td>\n",
       "      <td>Mulloy</td>\n",
       "      <td>R</td>\n",
       "      <td>19131122.0</td>\n",
       "      <td>USA</td>\n",
       "      <td>185.0</td>\n",
       "      <td>Q54544</td>\n",
       "    </tr>\n",
       "    <tr>\n",
       "      <th>1</th>\n",
       "      <td>100002</td>\n",
       "      <td>Pancho</td>\n",
       "      <td>Segura</td>\n",
       "      <td>R</td>\n",
       "      <td>19210620.0</td>\n",
       "      <td>ECU</td>\n",
       "      <td>168.0</td>\n",
       "      <td>Q54581</td>\n",
       "    </tr>\n",
       "    <tr>\n",
       "      <th>2</th>\n",
       "      <td>100003</td>\n",
       "      <td>Frank</td>\n",
       "      <td>Sedgman</td>\n",
       "      <td>R</td>\n",
       "      <td>19271002.0</td>\n",
       "      <td>AUS</td>\n",
       "      <td>180.0</td>\n",
       "      <td>Q962049</td>\n",
       "    </tr>\n",
       "    <tr>\n",
       "      <th>3</th>\n",
       "      <td>100004</td>\n",
       "      <td>Giuseppe</td>\n",
       "      <td>Merlo</td>\n",
       "      <td>R</td>\n",
       "      <td>19271011.0</td>\n",
       "      <td>ITA</td>\n",
       "      <td>NaN</td>\n",
       "      <td>Q1258752</td>\n",
       "    </tr>\n",
       "    <tr>\n",
       "      <th>4</th>\n",
       "      <td>100005</td>\n",
       "      <td>Richard</td>\n",
       "      <td>Gonzalez</td>\n",
       "      <td>R</td>\n",
       "      <td>19280509.0</td>\n",
       "      <td>USA</td>\n",
       "      <td>188.0</td>\n",
       "      <td>Q53554</td>\n",
       "    </tr>\n",
       "  </tbody>\n",
       "</table>\n",
       "</div>"
      ],
      "text/plain": [
       "   player_id name_first name_last hand         dob  ioc  height wikidata_id\n",
       "0     100001    Gardnar    Mulloy    R  19131122.0  USA   185.0      Q54544\n",
       "1     100002     Pancho    Segura    R  19210620.0  ECU   168.0      Q54581\n",
       "2     100003      Frank   Sedgman    R  19271002.0  AUS   180.0     Q962049\n",
       "3     100004   Giuseppe     Merlo    R  19271011.0  ITA     NaN    Q1258752\n",
       "4     100005    Richard  Gonzalez    R  19280509.0  USA   188.0      Q53554"
      ]
     },
     "execution_count": 40,
     "metadata": {},
     "output_type": "execute_result"
    }
   ],
   "source": [
    "#Check Head\n",
    "df_players.head()"
   ]
  },
  {
   "cell_type": "code",
   "execution_count": 41,
   "id": "a13ddc88",
   "metadata": {},
   "outputs": [
    {
     "name": "stdout",
     "output_type": "stream",
     "text": [
      "['USA' 'ECU' 'AUS' 'ITA' 'RSA' 'DEN' 'HUN' 'CHI' 'POL' 'PER' 'IND' 'SWE'\n",
      " 'ESP' 'SUI' 'GER' 'ROU' 'CRO' 'JPN' 'CZE' 'RUS' 'GBR' 'BRA' 'FRA' 'ZIM'\n",
      " 'SRB' 'NED' 'CAN' 'GRE' 'MEX' 'JAM' 'COL' 'ARG' 'BEL' 'NZL' 'VEN' 'EGY'\n",
      " 'BOL' 'AUT' 'PAK' 'YUG' 'NGR' 'PUR' 'PAR' 'IRL' 'IRI' 'FIN' 'URU' 'ISR'\n",
      " 'KOR' 'CRC' 'MAR' 'HAI' 'LAT' 'INA' 'SEN' 'LUX' 'BAH' 'SVK' 'UKR' 'PHI'\n",
      " 'TUR' 'HKG' 'CUB' 'BUL' 'NOR' 'MAS' 'KEN' 'POR' 'GEO' 'THA' 'AND' 'CHN'\n",
      " 'CIV' 'MKD' 'TPE' 'AHO' 'ESA' 'GUA' 'MON' 'GHA' 'SLO' 'EST' 'TRI' 'ALG'\n",
      " 'DOM' 'BLR' 'UZB' 'CAF' 'ARM' 'QAT' 'BIH' 'LIB' 'LTU' 'MDA' 'KUW' 'BEN'\n",
      " 'MRI' 'TUN' 'AZE' 'KAZ' 'ISL' 'UAE' 'MNE' 'SLE' 'VIE' 'CYP' 'TOG' 'SRI'\n",
      " 'BAR' 'SOL' 'ARU' 'TJK' 'NAM' 'MAD' 'SYR' 'MLT' 'CAM' 'UGA' 'KGZ' 'LBA'\n",
      " 'BUR' 'ZAM' 'BER' 'MLI' 'SGP' 'OMA' 'VAN' 'KSA' 'BRN' 'GUM' 'URS' 'PNG'\n",
      " 'FIJ' 'SAM' 'COK' 'MHL' 'BRU' 'SMR' 'UNK' 'NIG' 'ECA' 'BAN' 'IRQ' 'CAR'\n",
      " 'CGO' 'CMR' 'RHO' 'JOR' 'PAN' 'BDI' 'ISV' 'TCH' 'FRG' 'ANZ' 'BRI' 'HAW'\n",
      " 'TAN' 'HON' 'SCG' 'BOT' 'CAY' 'COD' 'VIN' 'RWA' 'TKM' 'SUD' 'LCA' 'NCA'\n",
      " 'GAB' 'NMI' 'LAO' 'ANG' 'LES' 'MYA' 'SUR' 'GUD' 'MOZ' 'SEY' 'CAL' 'REU'\n",
      " 'GRN' 'LIE' 'SWZ' 'LBN' 'ALB' 'BIZ' 'LBR' 'ANT' 'ASA' 'ETH' 'MGL' 'CPV'\n",
      " 'PLW' 'NEP' 'TKS' 'GDR' nan 'LEB' 'CEY' 'BIR' 'GUY' 'YEM' 'POC' 'TTO'\n",
      " 'MTN' 'ITF' 'ERI' 'AFG' 'CUW' 'TGO' 'SAU' 'CHL' 'MDG' 'GTM' 'GLP' 'VUT'\n",
      " 'DEU' 'MCO' 'PRY' 'MRT' 'KWT' 'GRC' 'NPL']\n"
     ]
    }
   ],
   "source": [
    "#show all values under 'ioc'\n",
    "\n",
    "unique_values = df_players['ioc'].unique()\n",
    "\n",
    "print(unique_values)"
   ]
  },
  {
   "cell_type": "code",
   "execution_count": 42,
   "id": "0b64a15f",
   "metadata": {},
   "outputs": [],
   "source": [
    "#drop irrelevant columns\n",
    "df_players1 = df_players.drop(columns = ['wikidata_id'])"
   ]
  },
  {
   "cell_type": "code",
   "execution_count": 43,
   "id": "5f2067c4",
   "metadata": {},
   "outputs": [],
   "source": [
    "# Convert float64 variable to string and extract first four characters\n",
    "df_players1['yob'] = df_players['dob'].astype(str).str[:4]"
   ]
  },
  {
   "cell_type": "code",
   "execution_count": 44,
   "id": "7fcd29ab",
   "metadata": {},
   "outputs": [
    {
     "data": {
      "text/html": [
       "<div>\n",
       "<style scoped>\n",
       "    .dataframe tbody tr th:only-of-type {\n",
       "        vertical-align: middle;\n",
       "    }\n",
       "\n",
       "    .dataframe tbody tr th {\n",
       "        vertical-align: top;\n",
       "    }\n",
       "\n",
       "    .dataframe thead th {\n",
       "        text-align: right;\n",
       "    }\n",
       "</style>\n",
       "<table border=\"1\" class=\"dataframe\">\n",
       "  <thead>\n",
       "    <tr style=\"text-align: right;\">\n",
       "      <th></th>\n",
       "      <th>player_id</th>\n",
       "      <th>name_first</th>\n",
       "      <th>name_last</th>\n",
       "      <th>hand</th>\n",
       "      <th>dob</th>\n",
       "      <th>ioc</th>\n",
       "      <th>height</th>\n",
       "      <th>yob</th>\n",
       "    </tr>\n",
       "  </thead>\n",
       "  <tbody>\n",
       "    <tr>\n",
       "      <th>0</th>\n",
       "      <td>100001</td>\n",
       "      <td>Gardnar</td>\n",
       "      <td>Mulloy</td>\n",
       "      <td>R</td>\n",
       "      <td>19131122.0</td>\n",
       "      <td>USA</td>\n",
       "      <td>185.0</td>\n",
       "      <td>1913</td>\n",
       "    </tr>\n",
       "    <tr>\n",
       "      <th>1</th>\n",
       "      <td>100002</td>\n",
       "      <td>Pancho</td>\n",
       "      <td>Segura</td>\n",
       "      <td>R</td>\n",
       "      <td>19210620.0</td>\n",
       "      <td>ECU</td>\n",
       "      <td>168.0</td>\n",
       "      <td>1921</td>\n",
       "    </tr>\n",
       "    <tr>\n",
       "      <th>2</th>\n",
       "      <td>100003</td>\n",
       "      <td>Frank</td>\n",
       "      <td>Sedgman</td>\n",
       "      <td>R</td>\n",
       "      <td>19271002.0</td>\n",
       "      <td>AUS</td>\n",
       "      <td>180.0</td>\n",
       "      <td>1927</td>\n",
       "    </tr>\n",
       "    <tr>\n",
       "      <th>3</th>\n",
       "      <td>100004</td>\n",
       "      <td>Giuseppe</td>\n",
       "      <td>Merlo</td>\n",
       "      <td>R</td>\n",
       "      <td>19271011.0</td>\n",
       "      <td>ITA</td>\n",
       "      <td>NaN</td>\n",
       "      <td>1927</td>\n",
       "    </tr>\n",
       "    <tr>\n",
       "      <th>4</th>\n",
       "      <td>100005</td>\n",
       "      <td>Richard</td>\n",
       "      <td>Gonzalez</td>\n",
       "      <td>R</td>\n",
       "      <td>19280509.0</td>\n",
       "      <td>USA</td>\n",
       "      <td>188.0</td>\n",
       "      <td>1928</td>\n",
       "    </tr>\n",
       "  </tbody>\n",
       "</table>\n",
       "</div>"
      ],
      "text/plain": [
       "   player_id name_first name_last hand         dob  ioc  height   yob\n",
       "0     100001    Gardnar    Mulloy    R  19131122.0  USA   185.0  1913\n",
       "1     100002     Pancho    Segura    R  19210620.0  ECU   168.0  1921\n",
       "2     100003      Frank   Sedgman    R  19271002.0  AUS   180.0  1927\n",
       "3     100004   Giuseppe     Merlo    R  19271011.0  ITA     NaN  1927\n",
       "4     100005    Richard  Gonzalez    R  19280509.0  USA   188.0  1928"
      ]
     },
     "execution_count": 44,
     "metadata": {},
     "output_type": "execute_result"
    }
   ],
   "source": [
    "df_players1.head()"
   ]
  },
  {
   "cell_type": "code",
   "execution_count": 45,
   "id": "10e3d399",
   "metadata": {},
   "outputs": [
    {
     "data": {
      "text/plain": [
       "(0, 8)"
      ]
     },
     "execution_count": 45,
     "metadata": {},
     "output_type": "execute_result"
    }
   ],
   "source": [
    "#duplicates check\n",
    "\n",
    "df_players1_dups = df_players1[df_players1.duplicated()]\n",
    "df_players1_dups.shape\n",
    "\n",
    "#no duplicates"
   ]
  },
  {
   "cell_type": "code",
   "execution_count": 46,
   "id": "8d7b002f",
   "metadata": {},
   "outputs": [
    {
     "data": {
      "text/plain": [
       "(58687, 8)"
      ]
     },
     "execution_count": 46,
     "metadata": {},
     "output_type": "execute_result"
    }
   ],
   "source": [
    "#check shape\n",
    "df_players1.shape"
   ]
  },
  {
   "cell_type": "code",
   "execution_count": 47,
   "id": "0d5971b2",
   "metadata": {},
   "outputs": [
    {
     "data": {
      "text/plain": [
       "player_id         0\n",
       "name_first      355\n",
       "name_last        41\n",
       "hand            240\n",
       "dob           13547\n",
       "ioc             101\n",
       "height        55899\n",
       "yob               0\n",
       "dtype: int64"
      ]
     },
     "execution_count": 47,
     "metadata": {},
     "output_type": "execute_result"
    }
   ],
   "source": [
    "#checking for missing values\n",
    "df_players1.isnull().sum()\n",
    "#'ioc' is the column that shows which country a player comes from\n",
    "#I will remove all enries with missing ioc/dob vales"
   ]
  },
  {
   "cell_type": "code",
   "execution_count": 48,
   "id": "5afee804",
   "metadata": {},
   "outputs": [],
   "source": [
    "#removing all missing ioc vales (there are only 101 out of 58,687 missing)\n",
    "df_players2 = df_players1[df_players1['ioc'].isnull()== False]"
   ]
  },
  {
   "cell_type": "code",
   "execution_count": 49,
   "id": "ebcee751",
   "metadata": {},
   "outputs": [
    {
     "data": {
      "text/plain": [
       "(58586, 8)"
      ]
     },
     "execution_count": 49,
     "metadata": {},
     "output_type": "execute_result"
    }
   ],
   "source": [
    "df_players2.shape"
   ]
  },
  {
   "cell_type": "code",
   "execution_count": 50,
   "id": "d885f70d",
   "metadata": {},
   "outputs": [
    {
     "data": {
      "text/plain": [
       "player_id       int64\n",
       "name_first     object\n",
       "name_last      object\n",
       "hand           object\n",
       "dob           float64\n",
       "ioc            object\n",
       "height        float64\n",
       "yob            object\n",
       "dtype: object"
      ]
     },
     "execution_count": 50,
     "metadata": {},
     "output_type": "execute_result"
    }
   ],
   "source": [
    "#checking data type\n",
    "df_players2.dtypes"
   ]
  },
  {
   "cell_type": "code",
   "execution_count": 51,
   "id": "fd9a61d6",
   "metadata": {},
   "outputs": [],
   "source": [
    "#I do not need yob and dob\n",
    "df_players3 = df_players2.drop(columns = ['dob'])"
   ]
  },
  {
   "cell_type": "code",
   "execution_count": 52,
   "id": "6b04bb4c",
   "metadata": {},
   "outputs": [
    {
     "data": {
      "text/html": [
       "<div>\n",
       "<style scoped>\n",
       "    .dataframe tbody tr th:only-of-type {\n",
       "        vertical-align: middle;\n",
       "    }\n",
       "\n",
       "    .dataframe tbody tr th {\n",
       "        vertical-align: top;\n",
       "    }\n",
       "\n",
       "    .dataframe thead th {\n",
       "        text-align: right;\n",
       "    }\n",
       "</style>\n",
       "<table border=\"1\" class=\"dataframe\">\n",
       "  <thead>\n",
       "    <tr style=\"text-align: right;\">\n",
       "      <th></th>\n",
       "      <th>player_id</th>\n",
       "      <th>name_first</th>\n",
       "      <th>name_last</th>\n",
       "      <th>hand</th>\n",
       "      <th>ioc</th>\n",
       "      <th>height</th>\n",
       "      <th>yob</th>\n",
       "    </tr>\n",
       "  </thead>\n",
       "  <tbody>\n",
       "    <tr>\n",
       "      <th>0</th>\n",
       "      <td>100001</td>\n",
       "      <td>Gardnar</td>\n",
       "      <td>Mulloy</td>\n",
       "      <td>R</td>\n",
       "      <td>USA</td>\n",
       "      <td>185.0</td>\n",
       "      <td>1913</td>\n",
       "    </tr>\n",
       "    <tr>\n",
       "      <th>1</th>\n",
       "      <td>100002</td>\n",
       "      <td>Pancho</td>\n",
       "      <td>Segura</td>\n",
       "      <td>R</td>\n",
       "      <td>ECU</td>\n",
       "      <td>168.0</td>\n",
       "      <td>1921</td>\n",
       "    </tr>\n",
       "    <tr>\n",
       "      <th>2</th>\n",
       "      <td>100003</td>\n",
       "      <td>Frank</td>\n",
       "      <td>Sedgman</td>\n",
       "      <td>R</td>\n",
       "      <td>AUS</td>\n",
       "      <td>180.0</td>\n",
       "      <td>1927</td>\n",
       "    </tr>\n",
       "    <tr>\n",
       "      <th>3</th>\n",
       "      <td>100004</td>\n",
       "      <td>Giuseppe</td>\n",
       "      <td>Merlo</td>\n",
       "      <td>R</td>\n",
       "      <td>ITA</td>\n",
       "      <td>NaN</td>\n",
       "      <td>1927</td>\n",
       "    </tr>\n",
       "    <tr>\n",
       "      <th>4</th>\n",
       "      <td>100005</td>\n",
       "      <td>Richard</td>\n",
       "      <td>Gonzalez</td>\n",
       "      <td>R</td>\n",
       "      <td>USA</td>\n",
       "      <td>188.0</td>\n",
       "      <td>1928</td>\n",
       "    </tr>\n",
       "  </tbody>\n",
       "</table>\n",
       "</div>"
      ],
      "text/plain": [
       "   player_id name_first name_last hand  ioc  height   yob\n",
       "0     100001    Gardnar    Mulloy    R  USA   185.0  1913\n",
       "1     100002     Pancho    Segura    R  ECU   168.0  1921\n",
       "2     100003      Frank   Sedgman    R  AUS   180.0  1927\n",
       "3     100004   Giuseppe     Merlo    R  ITA     NaN  1927\n",
       "4     100005    Richard  Gonzalez    R  USA   188.0  1928"
      ]
     },
     "execution_count": 52,
     "metadata": {},
     "output_type": "execute_result"
    }
   ],
   "source": [
    "df_players3.head()"
   ]
  },
  {
   "cell_type": "code",
   "execution_count": 53,
   "id": "09d2c59e",
   "metadata": {},
   "outputs": [
    {
     "name": "stdout",
     "output_type": "stream",
     "text": [
      "name_first\n",
      "name_last\n",
      "hand\n"
     ]
    }
   ],
   "source": [
    "#checking for mixed data types\n",
    "for col in df_players2.columns.tolist():\n",
    "      weird = (df_players2[[col]].applymap(type) != df_players2[[col]].iloc[0].apply(type)).any(axis = 1)\n",
    "      if len (df_players2[weird]) > 0:\n",
    "        print (col)\n",
    "#the following columns are not important for analysis"
   ]
  },
  {
   "cell_type": "markdown",
   "id": "ba6625c7",
   "metadata": {},
   "source": [
    "### 3. Data wrangling"
   ]
  },
  {
   "cell_type": "markdown",
   "id": "57d264f2",
   "metadata": {},
   "source": [
    "#### I am interested to know how many players came from each country"
   ]
  },
  {
   "cell_type": "code",
   "execution_count": 54,
   "id": "24111da2",
   "metadata": {},
   "outputs": [],
   "source": [
    "#Checking value counts for 'ioc'\n",
    "value_counts = df_players3['ioc'].value_counts()"
   ]
  },
  {
   "cell_type": "code",
   "execution_count": 55,
   "id": "bcef69e4",
   "metadata": {},
   "outputs": [
    {
     "name": "stdout",
     "output_type": "stream",
     "text": [
      "     ioc  number of players\n",
      "0    USA               9850\n",
      "1    AUS               2862\n",
      "2    ESP               2857\n",
      "3    GBR               2738\n",
      "4    GER               2557\n",
      "..   ...                ...\n",
      "217  SWZ                  1\n",
      "218  PLW                  1\n",
      "219  CPV                  1\n",
      "220  MGL                  1\n",
      "221  NPL                  1\n",
      "\n",
      "[222 rows x 2 columns]\n"
     ]
    }
   ],
   "source": [
    "# Convert the Series to a DataFrame\n",
    "df_players_ioc = pd.DataFrame({'ioc': value_counts.index, 'number of players': value_counts.values})\n",
    "\n",
    "print(df_players_ioc)"
   ]
  },
  {
   "cell_type": "markdown",
   "id": "f9d8f71d",
   "metadata": {},
   "source": [
    "### Plotting a Chloropleth"
   ]
  },
  {
   "cell_type": "code",
   "execution_count": 56,
   "id": "97786323",
   "metadata": {},
   "outputs": [
    {
     "data": {
      "text/html": [
       "<div>\n",
       "<style scoped>\n",
       "    .dataframe tbody tr th:only-of-type {\n",
       "        vertical-align: middle;\n",
       "    }\n",
       "\n",
       "    .dataframe tbody tr th {\n",
       "        vertical-align: top;\n",
       "    }\n",
       "\n",
       "    .dataframe thead th {\n",
       "        text-align: right;\n",
       "    }\n",
       "</style>\n",
       "<table border=\"1\" class=\"dataframe\">\n",
       "  <thead>\n",
       "    <tr style=\"text-align: right;\">\n",
       "      <th></th>\n",
       "      <th>ioc</th>\n",
       "      <th>number of players</th>\n",
       "    </tr>\n",
       "  </thead>\n",
       "  <tbody>\n",
       "    <tr>\n",
       "      <th>0</th>\n",
       "      <td>USA</td>\n",
       "      <td>9850</td>\n",
       "    </tr>\n",
       "    <tr>\n",
       "      <th>1</th>\n",
       "      <td>AUS</td>\n",
       "      <td>2862</td>\n",
       "    </tr>\n",
       "    <tr>\n",
       "      <th>2</th>\n",
       "      <td>ESP</td>\n",
       "      <td>2857</td>\n",
       "    </tr>\n",
       "    <tr>\n",
       "      <th>3</th>\n",
       "      <td>GBR</td>\n",
       "      <td>2738</td>\n",
       "    </tr>\n",
       "    <tr>\n",
       "      <th>4</th>\n",
       "      <td>GER</td>\n",
       "      <td>2557</td>\n",
       "    </tr>\n",
       "  </tbody>\n",
       "</table>\n",
       "</div>"
      ],
      "text/plain": [
       "   ioc  number of players\n",
       "0  USA               9850\n",
       "1  AUS               2862\n",
       "2  ESP               2857\n",
       "3  GBR               2738\n",
       "4  GER               2557"
      ]
     },
     "execution_count": 56,
     "metadata": {},
     "output_type": "execute_result"
    }
   ],
   "source": [
    "# Create a data frame with ioc and number of players\n",
    "\n",
    "data_to_plot = df_players_ioc[['ioc','number of players']]\n",
    "data_to_plot.head()"
   ]
  },
  {
   "cell_type": "code",
   "execution_count": 57,
   "id": "c692fd8f",
   "metadata": {},
   "outputs": [
    {
     "data": {
      "text/plain": [
       "ioc                  object\n",
       "number of players     int64\n",
       "dtype: object"
      ]
     },
     "execution_count": 57,
     "metadata": {},
     "output_type": "execute_result"
    }
   ],
   "source": [
    "data_to_plot.dtypes"
   ]
  },
  {
   "cell_type": "code",
   "execution_count": 58,
   "id": "86833e94",
   "metadata": {},
   "outputs": [
    {
     "ename": "TypeError",
     "evalue": "list indices must be integers or slices, not str",
     "output_type": "error",
     "traceback": [
      "\u001b[0;31m---------------------------------------------------------------------------\u001b[0m",
      "\u001b[0;31mTypeError\u001b[0m                                 Traceback (most recent call last)",
      "Cell \u001b[0;32mIn[58], line 5\u001b[0m\n\u001b[1;32m      2\u001b[0m \u001b[38;5;28mmap\u001b[39m \u001b[38;5;241m=\u001b[39m folium\u001b[38;5;241m.\u001b[39mMap(location \u001b[38;5;241m=\u001b[39m [\u001b[38;5;241m100\u001b[39m, \u001b[38;5;241m0\u001b[39m], zoom_start \u001b[38;5;241m=\u001b[39m \u001b[38;5;241m1.5\u001b[39m)\n\u001b[1;32m      4\u001b[0m \u001b[38;5;66;03m# Choropleth maps bind Pandas Data Frames and json geometries.This allows us to quickly visualize data combinations\u001b[39;00m\n\u001b[0;32m----> 5\u001b[0m folium\u001b[38;5;241m.\u001b[39mChoropleth(\n\u001b[1;32m      6\u001b[0m     geo_data \u001b[38;5;241m=\u001b[39m countries, \n\u001b[1;32m      7\u001b[0m     data \u001b[38;5;241m=\u001b[39m data_to_plot,\n\u001b[1;32m      8\u001b[0m     columns \u001b[38;5;241m=\u001b[39m [\u001b[38;5;124m'\u001b[39m\u001b[38;5;124mioc\u001b[39m\u001b[38;5;124m'\u001b[39m, \u001b[38;5;124m'\u001b[39m\u001b[38;5;124mnumber of players\u001b[39m\u001b[38;5;124m'\u001b[39m],\n\u001b[1;32m      9\u001b[0m     key_on \u001b[38;5;241m=\u001b[39m \u001b[38;5;124m'\u001b[39m\u001b[38;5;124mcode\u001b[39m\u001b[38;5;124m'\u001b[39m, \u001b[38;5;66;03m# this part is very important - check your json file to see where the KEY is located\u001b[39;00m\n\u001b[1;32m     10\u001b[0m     fill_color \u001b[38;5;241m=\u001b[39m \u001b[38;5;124m'\u001b[39m\u001b[38;5;124mYlOrBr\u001b[39m\u001b[38;5;124m'\u001b[39m, fill_opacity\u001b[38;5;241m=\u001b[39m\u001b[38;5;241m0.6\u001b[39m, line_opacity\u001b[38;5;241m=\u001b[39m\u001b[38;5;241m0.1\u001b[39m,\n\u001b[1;32m     11\u001b[0m     legend_name \u001b[38;5;241m=\u001b[39m \u001b[38;5;124m\"\u001b[39m\u001b[38;5;124mnumber of players\u001b[39m\u001b[38;5;124m\"\u001b[39m)\u001b[38;5;241m.\u001b[39madd_to(\u001b[38;5;28mmap\u001b[39m)\n\u001b[1;32m     12\u001b[0m folium\u001b[38;5;241m.\u001b[39mLayerControl()\u001b[38;5;241m.\u001b[39madd_to(\u001b[38;5;28mmap\u001b[39m)\n\u001b[1;32m     14\u001b[0m \u001b[38;5;28mmap\u001b[39m\n",
      "File \u001b[0;32m~/anaconda3/lib/python3.11/site-packages/folium/features.py:1603\u001b[0m, in \u001b[0;36mChoropleth.__init__\u001b[0;34m(self, geo_data, data, columns, key_on, bins, fill_color, nan_fill_color, fill_opacity, nan_fill_opacity, line_color, line_weight, line_opacity, name, legend_name, overlay, control, show, topojson, smooth_factor, highlight, use_jenks, **kwargs)\u001b[0m\n\u001b[1;32m   1596\u001b[0m     \u001b[38;5;28mself\u001b[39m\u001b[38;5;241m.\u001b[39mgeojson \u001b[38;5;241m=\u001b[39m TopoJson(\n\u001b[1;32m   1597\u001b[0m         geo_data,\n\u001b[1;32m   1598\u001b[0m         topojson,\n\u001b[1;32m   1599\u001b[0m         style_function\u001b[38;5;241m=\u001b[39mstyle_function,\n\u001b[1;32m   1600\u001b[0m         smooth_factor\u001b[38;5;241m=\u001b[39msmooth_factor,\n\u001b[1;32m   1601\u001b[0m     )\n\u001b[1;32m   1602\u001b[0m \u001b[38;5;28;01melse\u001b[39;00m:\n\u001b[0;32m-> 1603\u001b[0m     \u001b[38;5;28mself\u001b[39m\u001b[38;5;241m.\u001b[39mgeojson \u001b[38;5;241m=\u001b[39m GeoJson(\n\u001b[1;32m   1604\u001b[0m         geo_data,\n\u001b[1;32m   1605\u001b[0m         style_function\u001b[38;5;241m=\u001b[39mstyle_function,\n\u001b[1;32m   1606\u001b[0m         smooth_factor\u001b[38;5;241m=\u001b[39msmooth_factor,\n\u001b[1;32m   1607\u001b[0m         highlight_function\u001b[38;5;241m=\u001b[39mhighlight_function \u001b[38;5;28;01mif\u001b[39;00m highlight \u001b[38;5;28;01melse\u001b[39;00m \u001b[38;5;28;01mNone\u001b[39;00m,\n\u001b[1;32m   1608\u001b[0m     )\n\u001b[1;32m   1610\u001b[0m \u001b[38;5;28mself\u001b[39m\u001b[38;5;241m.\u001b[39madd_child(\u001b[38;5;28mself\u001b[39m\u001b[38;5;241m.\u001b[39mgeojson)\n\u001b[1;32m   1611\u001b[0m \u001b[38;5;28;01mif\u001b[39;00m \u001b[38;5;28mself\u001b[39m\u001b[38;5;241m.\u001b[39mcolor_scale:\n",
      "File \u001b[0;32m~/anaconda3/lib/python3.11/site-packages/folium/features.py:668\u001b[0m, in \u001b[0;36mGeoJson.__init__\u001b[0;34m(self, data, style_function, highlight_function, name, overlay, control, show, smooth_factor, tooltip, embed, popup, zoom_on_click, marker, **kwargs)\u001b[0m\n\u001b[1;32m    665\u001b[0m \u001b[38;5;28mself\u001b[39m\u001b[38;5;241m.\u001b[39mdata \u001b[38;5;241m=\u001b[39m \u001b[38;5;28mself\u001b[39m\u001b[38;5;241m.\u001b[39mprocess_data(data)\n\u001b[1;32m    667\u001b[0m \u001b[38;5;28;01mif\u001b[39;00m \u001b[38;5;28mself\u001b[39m\u001b[38;5;241m.\u001b[39mstyle \u001b[38;5;129;01mor\u001b[39;00m \u001b[38;5;28mself\u001b[39m\u001b[38;5;241m.\u001b[39mhighlight:\n\u001b[0;32m--> 668\u001b[0m     \u001b[38;5;28mself\u001b[39m\u001b[38;5;241m.\u001b[39mconvert_to_feature_collection()\n\u001b[1;32m    669\u001b[0m     \u001b[38;5;28;01mif\u001b[39;00m style_function \u001b[38;5;129;01mis\u001b[39;00m \u001b[38;5;129;01mnot\u001b[39;00m \u001b[38;5;28;01mNone\u001b[39;00m:\n\u001b[1;32m    670\u001b[0m         \u001b[38;5;28mself\u001b[39m\u001b[38;5;241m.\u001b[39m_validate_function(style_function, \u001b[38;5;124m\"\u001b[39m\u001b[38;5;124mstyle_function\u001b[39m\u001b[38;5;124m\"\u001b[39m)\n",
      "File \u001b[0;32m~/anaconda3/lib/python3.11/site-packages/folium/features.py:719\u001b[0m, in \u001b[0;36mGeoJson.convert_to_feature_collection\u001b[0;34m(self)\u001b[0m\n\u001b[1;32m    717\u001b[0m \u001b[38;5;28;01mdef\u001b[39;00m \u001b[38;5;21mconvert_to_feature_collection\u001b[39m(\u001b[38;5;28mself\u001b[39m) \u001b[38;5;241m-\u001b[39m\u001b[38;5;241m>\u001b[39m \u001b[38;5;28;01mNone\u001b[39;00m:\n\u001b[1;32m    718\u001b[0m \u001b[38;5;250m    \u001b[39m\u001b[38;5;124;03m\"\"\"Convert data into a FeatureCollection if it is not already.\"\"\"\u001b[39;00m\n\u001b[0;32m--> 719\u001b[0m     \u001b[38;5;28;01mif\u001b[39;00m \u001b[38;5;28mself\u001b[39m\u001b[38;5;241m.\u001b[39mdata[\u001b[38;5;124m\"\u001b[39m\u001b[38;5;124mtype\u001b[39m\u001b[38;5;124m\"\u001b[39m] \u001b[38;5;241m==\u001b[39m \u001b[38;5;124m\"\u001b[39m\u001b[38;5;124mFeatureCollection\u001b[39m\u001b[38;5;124m\"\u001b[39m:\n\u001b[1;32m    720\u001b[0m         \u001b[38;5;28;01mreturn\u001b[39;00m\n\u001b[1;32m    721\u001b[0m     \u001b[38;5;28;01mif\u001b[39;00m \u001b[38;5;129;01mnot\u001b[39;00m \u001b[38;5;28mself\u001b[39m\u001b[38;5;241m.\u001b[39membed:\n",
      "\u001b[0;31mTypeError\u001b[0m: list indices must be integers or slices, not str"
     ]
    }
   ],
   "source": [
    "# Setup a folium map at a high-level zoom\n",
    "map = folium.Map(location = [100, 0], zoom_start = 1.5)\n",
    "\n",
    "# Choropleth maps bind Pandas Data Frames and json geometries.This allows us to quickly visualize data combinations\n",
    "folium.Choropleth(\n",
    "    geo_data = countries, \n",
    "    data = data_to_plot,\n",
    "    columns = ['ioc', 'number of players'],\n",
    "    key_on = 'code', # this part is very important - check your json file to see where the KEY is located\n",
    "    fill_color = 'YlOrBr', fill_opacity=0.6, line_opacity=0.1,\n",
    "    legend_name = \"number of players\").add_to(map)\n",
    "folium.LayerControl().add_to(map)\n",
    "\n",
    "map"
   ]
  },
  {
   "cell_type": "code",
   "execution_count": null,
   "id": "a3843414",
   "metadata": {},
   "outputs": [],
   "source": []
  },
  {
   "cell_type": "code",
   "execution_count": null,
   "id": "c3c66dab",
   "metadata": {},
   "outputs": [],
   "source": []
  },
  {
   "cell_type": "code",
   "execution_count": null,
   "id": "08356a81",
   "metadata": {},
   "outputs": [],
   "source": []
  }
 ],
 "metadata": {
  "kernelspec": {
   "display_name": "Python 3 (ipykernel)",
   "language": "python",
   "name": "python3"
  },
  "language_info": {
   "codemirror_mode": {
    "name": "ipython",
    "version": 3
   },
   "file_extension": ".py",
   "mimetype": "text/x-python",
   "name": "python",
   "nbconvert_exporter": "python",
   "pygments_lexer": "ipython3",
   "version": "3.11.5"
  }
 },
 "nbformat": 4,
 "nbformat_minor": 5
}
